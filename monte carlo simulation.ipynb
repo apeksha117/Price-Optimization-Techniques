{
 "cells": [
  {
   "cell_type": "code",
   "execution_count": 31,
   "id": "bea2bb77",
   "metadata": {},
   "outputs": [],
   "source": [
    "import numpy as np\n",
    "\n",
    "# Define risk factors and their probability distributions for the borrower\n",
    "mean_credit_score = 235\n",
    "std_credit_score = 50\n",
    "mean_income = 100000\n",
    "std_income = 10000\n",
    "\n",
    "# Define the number of simulation scenarios\n",
    "num_simulations = 10000\n",
    "\n",
    "# Set constants for the loan terms\n",
    "loan_amount = 10000\n",
    "loan_term = 36\n",
    "annual_default_rate = 0.05  # Hypothetical annual default rate\n",
    "\n",
    "# Define the target borrower's credit score and income\n",
    "borrower_credit_score = 720\n",
    "borrower_income = 62000\n",
    "\n",
    "# Create an empty list to store the loan pricing results\n",
    "interest_rates = []"
   ]
  },
  {
   "cell_type": "code",
   "execution_count": 32,
   "id": "acfa86ad",
   "metadata": {},
   "outputs": [
    {
     "name": "stdout",
     "output_type": "stream",
     "text": [
      "Interest Rate for the Target Borrower: 0.0454889881217615\n"
     ]
    }
   ],
   "source": [
    "import numpy as np\n",
    "\n",
    "# ... (Define risk factors, probability distributions, and loan terms)\n",
    "\n",
    "# Create an empty list to store the loan pricing results\n",
    "interest_rates = []\n",
    "\n",
    "for _ in range(num_simulations):\n",
    "    # Generate random values for credit score and income\n",
    "    credit_score = np.random.normal(mean_credit_score, std_credit_score)\n",
    "    income = np.random.normal(mean_income, std_income)\n",
    "    \n",
    "    # Calculate the annual default probability based on credit score\n",
    "    default_prob = max(0, 0.0001 * (750 - credit_score))\n",
    "    \n",
    "    # Calculate the expected loss given default (LGD) based on income\n",
    "    lgd = max(0, 0.1 * (60000 - income))\n",
    "    \n",
    "    # Calculate the annual loan pricing to cover expected loss and profit\n",
    "    annual_pricing = (default_prob * lgd + annual_default_rate * loan_amount) / (1 - (1 + annual_default_rate) ** -loan_term)\n",
    "    \n",
    "    # Convert annual pricing to monthly interest rate\n",
    "    monthly_interest_rate = (1 + annual_pricing) ** (1 / 12) - 1\n",
    "    \n",
    "    # Append the monthly interest rate to the list\n",
    "    interest_rates.append(monthly_interest_rate)\n",
    "\n",
    "# Create lists of credit scores and corresponding monthly interest rates\n",
    "credit_scores_simulation = [np.random.normal(mean_credit_score, std_credit_score) for _ in range(num_simulations)]\n",
    "monthly_interest_rates = [(1 + annual_pricing) ** (1 / 12) - 1 for annual_pricing in interest_rates]\n",
    "\n",
    "# Calculate the interest rate for the target borrower's credit score\n",
    "target_borrower_interest_rate = np.interp(borrower_credit_score, credit_scores_simulation, monthly_interest_rates)\n",
    "\n",
    "print(\"Interest Rate for the Target Borrower:\", target_borrower_interest_rate)\n"
   ]
  },
  {
   "cell_type": "code",
   "execution_count": null,
   "id": "3968174e",
   "metadata": {},
   "outputs": [],
   "source": []
  },
  {
   "cell_type": "code",
   "execution_count": null,
   "id": "ba7657ca",
   "metadata": {},
   "outputs": [],
   "source": []
  },
  {
   "cell_type": "code",
   "execution_count": null,
   "id": "81f75662",
   "metadata": {},
   "outputs": [],
   "source": []
  },
  {
   "cell_type": "code",
   "execution_count": null,
   "id": "325072a3",
   "metadata": {},
   "outputs": [],
   "source": []
  },
  {
   "cell_type": "code",
   "execution_count": null,
   "id": "9511d2fb",
   "metadata": {},
   "outputs": [],
   "source": []
  },
  {
   "cell_type": "code",
   "execution_count": 6,
   "id": "45b94409",
   "metadata": {},
   "outputs": [],
   "source": [
    "# Perform Monte Carlo simulation\n",
    "for _ in range(num_simulations):\n",
    "    # Generate random values for credit score and income\n",
    "    credit_score = np.random.normal(mean_credit_score, std_credit_score)\n",
    "    income = np.random.normal(mean_income, std_income)\n",
    "    \n",
    "    # Calculate the annual default probability based on credit score\n",
    "    default_prob = max(0, 0.0001 * (750 - credit_score))\n",
    "    \n",
    "    # Calculate the expected loss given default (LGD) based on income\n",
    "    lgd = max(0, 0.1 * (60000 - income))\n",
    "    \n",
    "    # Calculate the annual loan pricing to cover expected loss and profit\n",
    "    annual_pricing = (default_prob * lgd + annual_default_rate * loan_amount) / (1 - (1 + annual_default_rate) ** -loan_term)\n",
    "    \n",
    "    # Convert annual pricing to monthly interest rate\n",
    "    monthly_interest_rate = (1 + annual_pricing) ** (1 / 12) - 1\n",
    "    \n",
    "    # Append the monthly interest rate to the list\n",
    "    interest_rates.append(monthly_interest_rate)"
   ]
  },
  {
   "cell_type": "code",
   "execution_count": 7,
   "id": "47f603db",
   "metadata": {},
   "outputs": [
    {
     "ename": "ValueError",
     "evalue": "object of too small depth for desired array",
     "output_type": "error",
     "traceback": [
      "\u001b[1;31m---------------------------------------------------------------------------\u001b[0m",
      "\u001b[1;31mValueError\u001b[0m                                Traceback (most recent call last)",
      "\u001b[1;32m~\\AppData\\Local\\Temp\\ipykernel_10128\\51747318.py\u001b[0m in \u001b[0;36m<module>\u001b[1;34m\u001b[0m\n\u001b[0;32m      1\u001b[0m \u001b[1;31m# Calculate the interest rate for the target borrower\u001b[0m\u001b[1;33m\u001b[0m\u001b[1;33m\u001b[0m\u001b[0m\n\u001b[1;32m----> 2\u001b[1;33m \u001b[0mtarget_borrower_interest_rate\u001b[0m \u001b[1;33m=\u001b[0m \u001b[0mnp\u001b[0m\u001b[1;33m.\u001b[0m\u001b[0minterp\u001b[0m\u001b[1;33m(\u001b[0m\u001b[0mborrower_credit_score\u001b[0m\u001b[1;33m,\u001b[0m \u001b[0mnp\u001b[0m\u001b[1;33m.\u001b[0m\u001b[0mmean\u001b[0m\u001b[1;33m(\u001b[0m\u001b[0minterest_rates\u001b[0m\u001b[1;33m)\u001b[0m\u001b[1;33m,\u001b[0m \u001b[0minterest_rates\u001b[0m\u001b[1;33m)\u001b[0m\u001b[1;33m\u001b[0m\u001b[1;33m\u001b[0m\u001b[0m\n\u001b[0m\u001b[0;32m      3\u001b[0m \u001b[1;33m\u001b[0m\u001b[0m\n\u001b[0;32m      4\u001b[0m \u001b[0mprint\u001b[0m\u001b[1;33m(\u001b[0m\u001b[1;34m\"Interest Rate for the Target Borrower:\"\u001b[0m\u001b[1;33m,\u001b[0m \u001b[0mtarget_borrower_interest_rate\u001b[0m\u001b[1;33m)\u001b[0m\u001b[1;33m\u001b[0m\u001b[1;33m\u001b[0m\u001b[0m\n",
      "\u001b[1;32m<__array_function__ internals>\u001b[0m in \u001b[0;36minterp\u001b[1;34m(*args, **kwargs)\u001b[0m\n",
      "\u001b[1;32m~\\Anaconda3\\lib\\site-packages\\numpy\\lib\\function_base.py\u001b[0m in \u001b[0;36minterp\u001b[1;34m(x, xp, fp, left, right, period)\u001b[0m\n\u001b[0;32m   1437\u001b[0m         \u001b[0mfp\u001b[0m \u001b[1;33m=\u001b[0m \u001b[0mnp\u001b[0m\u001b[1;33m.\u001b[0m\u001b[0mconcatenate\u001b[0m\u001b[1;33m(\u001b[0m\u001b[1;33m(\u001b[0m\u001b[0mfp\u001b[0m\u001b[1;33m[\u001b[0m\u001b[1;33m-\u001b[0m\u001b[1;36m1\u001b[0m\u001b[1;33m:\u001b[0m\u001b[1;33m]\u001b[0m\u001b[1;33m,\u001b[0m \u001b[0mfp\u001b[0m\u001b[1;33m,\u001b[0m \u001b[0mfp\u001b[0m\u001b[1;33m[\u001b[0m\u001b[1;36m0\u001b[0m\u001b[1;33m:\u001b[0m\u001b[1;36m1\u001b[0m\u001b[1;33m]\u001b[0m\u001b[1;33m)\u001b[0m\u001b[1;33m)\u001b[0m\u001b[1;33m\u001b[0m\u001b[1;33m\u001b[0m\u001b[0m\n\u001b[0;32m   1438\u001b[0m \u001b[1;33m\u001b[0m\u001b[0m\n\u001b[1;32m-> 1439\u001b[1;33m     \u001b[1;32mreturn\u001b[0m \u001b[0minterp_func\u001b[0m\u001b[1;33m(\u001b[0m\u001b[0mx\u001b[0m\u001b[1;33m,\u001b[0m \u001b[0mxp\u001b[0m\u001b[1;33m,\u001b[0m \u001b[0mfp\u001b[0m\u001b[1;33m,\u001b[0m \u001b[0mleft\u001b[0m\u001b[1;33m,\u001b[0m \u001b[0mright\u001b[0m\u001b[1;33m)\u001b[0m\u001b[1;33m\u001b[0m\u001b[1;33m\u001b[0m\u001b[0m\n\u001b[0m\u001b[0;32m   1440\u001b[0m \u001b[1;33m\u001b[0m\u001b[0m\n\u001b[0;32m   1441\u001b[0m \u001b[1;33m\u001b[0m\u001b[0m\n",
      "\u001b[1;31mValueError\u001b[0m: object of too small depth for desired array"
     ]
    }
   ],
   "source": [
    "# Calculate the interest rate for the target borrower\n",
    "target_borrower_interest_rate = np.interp(borrower_credit_score, np.mean(interest_rates), interest_rates)\n",
    "\n",
    "print(\"Interest Rate for the Target Borrower:\", target_borrower_interest_rate)"
   ]
  },
  {
   "cell_type": "code",
   "execution_count": 12,
   "id": "98f24952",
   "metadata": {},
   "outputs": [
    {
     "ename": "ValueError",
     "evalue": "object of too small depth for desired array",
     "output_type": "error",
     "traceback": [
      "\u001b[1;31m---------------------------------------------------------------------------\u001b[0m",
      "\u001b[1;31mValueError\u001b[0m                                Traceback (most recent call last)",
      "\u001b[1;32m~\\AppData\\Local\\Temp\\ipykernel_10128\\492639769.py\u001b[0m in \u001b[0;36m<module>\u001b[1;34m\u001b[0m\n\u001b[0;32m      1\u001b[0m \u001b[1;31m# Calculate the interest rate for the target borrower\u001b[0m\u001b[1;33m\u001b[0m\u001b[1;33m\u001b[0m\u001b[0m\n\u001b[1;32m----> 2\u001b[1;33m \u001b[0mtarget_borrower_interest_rate\u001b[0m \u001b[1;33m=\u001b[0m \u001b[0mnp\u001b[0m\u001b[1;33m.\u001b[0m\u001b[0minterp\u001b[0m\u001b[1;33m(\u001b[0m\u001b[0mborrower_credit_score\u001b[0m\u001b[1;33m,\u001b[0m \u001b[0ma\u001b[0m\u001b[1;33m,\u001b[0m \u001b[0minterest_rates\u001b[0m\u001b[1;33m)\u001b[0m\u001b[1;33m\u001b[0m\u001b[1;33m\u001b[0m\u001b[0m\n\u001b[0m",
      "\u001b[1;32m<__array_function__ internals>\u001b[0m in \u001b[0;36minterp\u001b[1;34m(*args, **kwargs)\u001b[0m\n",
      "\u001b[1;32m~\\Anaconda3\\lib\\site-packages\\numpy\\lib\\function_base.py\u001b[0m in \u001b[0;36minterp\u001b[1;34m(x, xp, fp, left, right, period)\u001b[0m\n\u001b[0;32m   1437\u001b[0m         \u001b[0mfp\u001b[0m \u001b[1;33m=\u001b[0m \u001b[0mnp\u001b[0m\u001b[1;33m.\u001b[0m\u001b[0mconcatenate\u001b[0m\u001b[1;33m(\u001b[0m\u001b[1;33m(\u001b[0m\u001b[0mfp\u001b[0m\u001b[1;33m[\u001b[0m\u001b[1;33m-\u001b[0m\u001b[1;36m1\u001b[0m\u001b[1;33m:\u001b[0m\u001b[1;33m]\u001b[0m\u001b[1;33m,\u001b[0m \u001b[0mfp\u001b[0m\u001b[1;33m,\u001b[0m \u001b[0mfp\u001b[0m\u001b[1;33m[\u001b[0m\u001b[1;36m0\u001b[0m\u001b[1;33m:\u001b[0m\u001b[1;36m1\u001b[0m\u001b[1;33m]\u001b[0m\u001b[1;33m)\u001b[0m\u001b[1;33m)\u001b[0m\u001b[1;33m\u001b[0m\u001b[1;33m\u001b[0m\u001b[0m\n\u001b[0;32m   1438\u001b[0m \u001b[1;33m\u001b[0m\u001b[0m\n\u001b[1;32m-> 1439\u001b[1;33m     \u001b[1;32mreturn\u001b[0m \u001b[0minterp_func\u001b[0m\u001b[1;33m(\u001b[0m\u001b[0mx\u001b[0m\u001b[1;33m,\u001b[0m \u001b[0mxp\u001b[0m\u001b[1;33m,\u001b[0m \u001b[0mfp\u001b[0m\u001b[1;33m,\u001b[0m \u001b[0mleft\u001b[0m\u001b[1;33m,\u001b[0m \u001b[0mright\u001b[0m\u001b[1;33m)\u001b[0m\u001b[1;33m\u001b[0m\u001b[1;33m\u001b[0m\u001b[0m\n\u001b[0m\u001b[0;32m   1440\u001b[0m \u001b[1;33m\u001b[0m\u001b[0m\n\u001b[0;32m   1441\u001b[0m \u001b[1;33m\u001b[0m\u001b[0m\n",
      "\u001b[1;31mValueError\u001b[0m: object of too small depth for desired array"
     ]
    }
   ],
   "source": [
    "# Calculate the interest rate for the target borrower\n",
    "target_borrower_interest_rate = np.interp(borrower_credit_score, a, interest_rates)"
   ]
  },
  {
   "cell_type": "code",
   "execution_count": 13,
   "id": "45b7cb0d",
   "metadata": {},
   "outputs": [
    {
     "ename": "ValueError",
     "evalue": "fp and xp are not of the same length.",
     "output_type": "error",
     "traceback": [
      "\u001b[1;31m---------------------------------------------------------------------------\u001b[0m",
      "\u001b[1;31mValueError\u001b[0m                                Traceback (most recent call last)",
      "\u001b[1;32m~\\AppData\\Local\\Temp\\ipykernel_10128\\2667048628.py\u001b[0m in \u001b[0;36m<module>\u001b[1;34m\u001b[0m\n\u001b[0;32m     15\u001b[0m \u001b[1;33m\u001b[0m\u001b[0m\n\u001b[0;32m     16\u001b[0m \u001b[1;31m# Calculate the interest rate for the target borrower's credit score\u001b[0m\u001b[1;33m\u001b[0m\u001b[1;33m\u001b[0m\u001b[0m\n\u001b[1;32m---> 17\u001b[1;33m \u001b[0mtarget_borrower_interest_rate\u001b[0m \u001b[1;33m=\u001b[0m \u001b[0mnp\u001b[0m\u001b[1;33m.\u001b[0m\u001b[0minterp\u001b[0m\u001b[1;33m(\u001b[0m\u001b[0mborrower_credit_score\u001b[0m\u001b[1;33m,\u001b[0m \u001b[0mcredit_scores_simulation\u001b[0m\u001b[1;33m,\u001b[0m \u001b[0mmonthly_interest_rates\u001b[0m\u001b[1;33m)\u001b[0m\u001b[1;33m\u001b[0m\u001b[1;33m\u001b[0m\u001b[0m\n\u001b[0m\u001b[0;32m     18\u001b[0m \u001b[1;33m\u001b[0m\u001b[0m\n\u001b[0;32m     19\u001b[0m \u001b[0mprint\u001b[0m\u001b[1;33m(\u001b[0m\u001b[1;34m\"Interest Rate for the Target Borrower:\"\u001b[0m\u001b[1;33m,\u001b[0m \u001b[0mtarget_borrower_interest_rate\u001b[0m\u001b[1;33m)\u001b[0m\u001b[1;33m\u001b[0m\u001b[1;33m\u001b[0m\u001b[0m\n",
      "\u001b[1;32m<__array_function__ internals>\u001b[0m in \u001b[0;36minterp\u001b[1;34m(*args, **kwargs)\u001b[0m\n",
      "\u001b[1;32m~\\Anaconda3\\lib\\site-packages\\numpy\\lib\\function_base.py\u001b[0m in \u001b[0;36minterp\u001b[1;34m(x, xp, fp, left, right, period)\u001b[0m\n\u001b[0;32m   1437\u001b[0m         \u001b[0mfp\u001b[0m \u001b[1;33m=\u001b[0m \u001b[0mnp\u001b[0m\u001b[1;33m.\u001b[0m\u001b[0mconcatenate\u001b[0m\u001b[1;33m(\u001b[0m\u001b[1;33m(\u001b[0m\u001b[0mfp\u001b[0m\u001b[1;33m[\u001b[0m\u001b[1;33m-\u001b[0m\u001b[1;36m1\u001b[0m\u001b[1;33m:\u001b[0m\u001b[1;33m]\u001b[0m\u001b[1;33m,\u001b[0m \u001b[0mfp\u001b[0m\u001b[1;33m,\u001b[0m \u001b[0mfp\u001b[0m\u001b[1;33m[\u001b[0m\u001b[1;36m0\u001b[0m\u001b[1;33m:\u001b[0m\u001b[1;36m1\u001b[0m\u001b[1;33m]\u001b[0m\u001b[1;33m)\u001b[0m\u001b[1;33m)\u001b[0m\u001b[1;33m\u001b[0m\u001b[1;33m\u001b[0m\u001b[0m\n\u001b[0;32m   1438\u001b[0m \u001b[1;33m\u001b[0m\u001b[0m\n\u001b[1;32m-> 1439\u001b[1;33m     \u001b[1;32mreturn\u001b[0m \u001b[0minterp_func\u001b[0m\u001b[1;33m(\u001b[0m\u001b[0mx\u001b[0m\u001b[1;33m,\u001b[0m \u001b[0mxp\u001b[0m\u001b[1;33m,\u001b[0m \u001b[0mfp\u001b[0m\u001b[1;33m,\u001b[0m \u001b[0mleft\u001b[0m\u001b[1;33m,\u001b[0m \u001b[0mright\u001b[0m\u001b[1;33m)\u001b[0m\u001b[1;33m\u001b[0m\u001b[1;33m\u001b[0m\u001b[0m\n\u001b[0m\u001b[0;32m   1440\u001b[0m \u001b[1;33m\u001b[0m\u001b[0m\n\u001b[0;32m   1441\u001b[0m \u001b[1;33m\u001b[0m\u001b[0m\n",
      "\u001b[1;31mValueError\u001b[0m: fp and xp are not of the same length."
     ]
    }
   ],
   "source": [
    "import numpy as np\n",
    "\n",
    "# ... (Define risk factors, probability distributions, and loan terms)\n",
    "\n",
    "# Create an empty list to store the loan pricing results\n",
    "interest_rates = []\n",
    "\n",
    "# ... (Perform Monte Carlo simulation as in previous examples)\n",
    "\n",
    "# Create a list of credit scores used in the simulation\n",
    "credit_scores_simulation = [np.random.normal(mean_credit_score, std_credit_score) for _ in range(num_simulations)]\n",
    "\n",
    "# Calculate the monthly interest rates for each simulated credit score\n",
    "monthly_interest_rates = [(1 + annual_pricing) ** (1 / 12) - 1 for annual_pricing in interest_rates]\n",
    "\n",
    "# Calculate the interest rate for the target borrower's credit score\n",
    "target_borrower_interest_rate = np.interp(borrower_credit_score, credit_scores_simulation, monthly_interest_rates)\n",
    "\n",
    "print(\"Interest Rate for the Target Borrower:\", target_borrower_interest_rate)\n"
   ]
  },
  {
   "cell_type": "code",
   "execution_count": 19,
   "id": "582f96cf",
   "metadata": {},
   "outputs": [
    {
     "data": {
      "text/plain": [
       "[]"
      ]
     },
     "execution_count": 19,
     "metadata": {},
     "output_type": "execute_result"
    }
   ],
   "source": [
    "monthly_interest_rates"
   ]
  },
  {
   "cell_type": "code",
   "execution_count": 8,
   "id": "04e889f1",
   "metadata": {},
   "outputs": [
    {
     "name": "stdout",
     "output_type": "stream",
     "text": [
      "Shape of np.mean(interest_rates): ()\n",
      "Shape of interest_rates: (20000,)\n"
     ]
    }
   ],
   "source": [
    "print(\"Shape of np.mean(interest_rates):\", np.mean(interest_rates).shape)\n",
    "print(\"Shape of interest_rates:\", np.array(interest_rates).shape)"
   ]
  },
  {
   "cell_type": "code",
   "execution_count": 10,
   "id": "525ce677",
   "metadata": {},
   "outputs": [],
   "source": [
    "a= np.mean(interest_rates)"
   ]
  },
  {
   "cell_type": "code",
   "execution_count": 11,
   "id": "a58d8f0b",
   "metadata": {},
   "outputs": [
    {
     "data": {
      "text/plain": [
       "0.7060358457387902"
      ]
     },
     "execution_count": 11,
     "metadata": {},
     "output_type": "execute_result"
    }
   ],
   "source": [
    "a"
   ]
  },
  {
   "cell_type": "code",
   "execution_count": null,
   "id": "f1be9296",
   "metadata": {},
   "outputs": [],
   "source": []
  }
 ],
 "metadata": {
  "kernelspec": {
   "display_name": "Python 3 (ipykernel)",
   "language": "python",
   "name": "python3"
  },
  "language_info": {
   "codemirror_mode": {
    "name": "ipython",
    "version": 3
   },
   "file_extension": ".py",
   "mimetype": "text/x-python",
   "name": "python",
   "nbconvert_exporter": "python",
   "pygments_lexer": "ipython3",
   "version": "3.9.12"
  }
 },
 "nbformat": 4,
 "nbformat_minor": 5
}
